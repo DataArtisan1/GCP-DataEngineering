{
 "cells": [
  {
   "cell_type": "code",
   "execution_count": 5,
   "metadata": {},
   "outputs": [
    {
     "name": "stdout",
     "output_type": "stream",
     "text": [
      "quatro\n",
      "um\n",
      "quatro\n",
      "quatro\n",
      "um\n"
     ]
    },
    {
     "data": {
      "text/plain": [
       "<apache_beam.runners.portability.fn_api_runner.fn_runner.RunnerResult at 0x24fb79255e0>"
      ]
     },
     "execution_count": 5,
     "metadata": {},
     "output_type": "execute_result"
    }
   ],
   "source": [
    "import apache_beam as beam\n",
    "\n",
    "input_file = \"../datasets/Poem.txt\"\n",
    "output_file = '../datasets/output/poem_output.txt'\n",
    "\n",
    "words=['quatro','um']\n",
    "\n",
    "def FindWords( i ):\n",
    " if i in words:\n",
    "    return True\n",
    "\n",
    "p1 = beam.Pipeline()\n",
    "\n",
    "voos = (\n",
    "p1\n",
    "  | \"Import Data\" >> beam.io.ReadFromText(input_file, skip_header_lines = 1)\n",
    "    |beam.FlatMap(lambda record: record.split(' '))\n",
    "    |beam.Filter(FindWords)\n",
    "    |beam.Map(print)\n",
    ")\n",
    "\n",
    "p1.run()"
   ]
  },
  {
   "cell_type": "code",
   "execution_count": 4,
   "metadata": {},
   "outputs": [
    {
     "name": "stdout",
     "output_type": "stream",
     "text": [
      "['456', '789', '5', '10.00']\n",
      "['123', '789', '3', '20.00']\n"
     ]
    }
   ],
   "source": [
    "import apache_beam as beam\n",
    "\n",
    "# Define the input and output file paths\n",
    "input_file = '../datasets/transactions.csv'\n",
    "\n",
    "\n",
    "# Create a pipeline\n",
    "with beam.Pipeline() as p:\n",
    "    (p\n",
    "        # Read data from the input file\n",
    "        | 'ReadFromText' >> beam.io.ReadFromText(input_file)\n",
    "        \n",
    "        # Split each record into fields\n",
    "        | 'SplitRecord' >> beam.Map(lambda record: record.split(','))\n",
    "        \n",
    "        # Filter records where quantity is greater than 2\n",
    "        | 'FilterByQuantity' >> beam.Filter(lambda fields: int(fields[2]) > 2)\n",
    "        \n",
    "        # Write the filtered results to an output file\n",
    "        | 'WriteToText' >> beam.Map(print)\n",
    "    )\n"
   ]
  },
  {
   "cell_type": "code",
   "execution_count": null,
   "metadata": {},
   "outputs": [],
   "source": []
  }
 ],
 "metadata": {
  "kernelspec": {
   "display_name": "Python 3",
   "language": "python",
   "name": "python3"
  },
  "language_info": {
   "codemirror_mode": {
    "name": "ipython",
    "version": 3
   },
   "file_extension": ".py",
   "mimetype": "text/x-python",
   "name": "python",
   "nbconvert_exporter": "python",
   "pygments_lexer": "ipython3",
   "version": "3.12.5"
  }
 },
 "nbformat": 4,
 "nbformat_minor": 2
}
