{
 "cells": [
  {
   "cell_type": "code",
   "execution_count": 1,
   "metadata": {},
   "outputs": [
    {
     "name": "stderr",
     "output_type": "stream",
     "text": [
      "Failed to import GCSFileSystem; loading of this filesystem will be skipped. Error details: cannot import name 'storage' from 'google.cloud' (unknown location)\n"
     ]
    },
    {
     "data": {
      "application/javascript": "\n        if (typeof window.interactive_beam_jquery == 'undefined') {\n          var jqueryScript = document.createElement('script');\n          jqueryScript.src = 'https://code.jquery.com/jquery-3.4.1.slim.min.js';\n          jqueryScript.type = 'text/javascript';\n          jqueryScript.onload = function() {\n            var datatableScript = document.createElement('script');\n            datatableScript.src = 'https://cdn.datatables.net/1.10.20/js/jquery.dataTables.min.js';\n            datatableScript.type = 'text/javascript';\n            datatableScript.onload = function() {\n              window.interactive_beam_jquery = jQuery.noConflict(true);\n              window.interactive_beam_jquery(document).ready(function($){\n                \n              });\n            }\n            document.head.appendChild(datatableScript);\n          };\n          document.head.appendChild(jqueryScript);\n        } else {\n          window.interactive_beam_jquery(document).ready(function($){\n            \n          });\n        }"
     },
     "metadata": {},
     "output_type": "display_data"
    },
    {
     "name": "stdout",
     "output_type": "stream",
     "text": [
      "(1, {'customers': ['Alice'], 'orders': ['Order1', 'Order2']})\n",
      "(2, {'customers': ['Bob'], 'orders': ['Order3']})\n",
      "(3, {'customers': ['Charlie'], 'orders': []})\n"
     ]
    }
   ],
   "source": [
    "import apache_beam as beam\n",
    "\n",
    "# Sample customer data (CustomerID, Name)\n",
    "customers = [\n",
    "    (1, 'Alice'),\n",
    "    (2, 'Bob'),\n",
    "    (3, 'Charlie')\n",
    "]\n",
    "\n",
    "# Sample order data (CustomerID, OrderID)\n",
    "orders = [\n",
    "    (1, 'Order1'),\n",
    "    (1, 'Order2'),\n",
    "    (2, 'Order3')\n",
    "]\n",
    "\n",
    "def print_result(element):\n",
    "    print(element)\n",
    "\n",
    "# Create a pipeline\n",
    "with beam.Pipeline() as p:\n",
    "    # Create PCollections for customers and orders\n",
    "    customer_pcoll = p | 'Create Customers' >> beam.Create(customers)\n",
    "    order_pcoll = p | 'Create Orders' >> beam.Create(orders)\n",
    "    \n",
    "    # Convert into (key, value) pairs for joining\n",
    "    customer_kv = customer_pcoll | 'ToCustomerKV' >> beam.Map(lambda x: (x[0], x[1]))\n",
    "    order_kv = order_pcoll | 'ToOrderKV' >> beam.Map(lambda x: (x[0], x[1]))\n",
    "    \n",
    "    # Group by key using CoGroupByKey\n",
    "    grouped = (\n",
    "        {'customers': customer_kv, 'orders': order_kv}\n",
    "        | 'CoGroupByKey' >> beam.CoGroupByKey()\n",
    "    )\n",
    "\n",
    "    # Print the result\n",
    "    grouped | 'Print Results' >> beam.Map(print_result)\n"
   ]
  },
  {
   "cell_type": "code",
   "execution_count": null,
   "metadata": {},
   "outputs": [],
   "source": []
  }
 ],
 "metadata": {
  "kernelspec": {
   "display_name": "Python 3",
   "language": "python",
   "name": "python3"
  },
  "language_info": {
   "codemirror_mode": {
    "name": "ipython",
    "version": 3
   },
   "file_extension": ".py",
   "mimetype": "text/x-python",
   "name": "python",
   "nbconvert_exporter": "python",
   "pygments_lexer": "ipython3",
   "version": "3.12.5"
  }
 },
 "nbformat": 4,
 "nbformat_minor": 2
}
