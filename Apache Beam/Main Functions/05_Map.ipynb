{
 "cells": [
  {
   "cell_type": "code",
   "execution_count": 1,
   "metadata": {},
   "outputs": [
    {
     "name": "stderr",
     "output_type": "stream",
     "text": [
      "Failed to import GCSFileSystem; loading of this filesystem will be skipped. Error details: cannot import name 'storage' from 'google.cloud' (unknown location)\n"
     ]
    },
    {
     "data": {
      "application/javascript": "\n        if (typeof window.interactive_beam_jquery == 'undefined') {\n          var jqueryScript = document.createElement('script');\n          jqueryScript.src = 'https://code.jquery.com/jquery-3.4.1.slim.min.js';\n          jqueryScript.type = 'text/javascript';\n          jqueryScript.onload = function() {\n            var datatableScript = document.createElement('script');\n            datatableScript.src = 'https://cdn.datatables.net/1.10.20/js/jquery.dataTables.min.js';\n            datatableScript.type = 'text/javascript';\n            datatableScript.onload = function() {\n              window.interactive_beam_jquery = jQuery.noConflict(true);\n              window.interactive_beam_jquery(document).ready(function($){\n                \n              });\n            }\n            document.head.appendChild(datatableScript);\n          };\n          document.head.appendChild(jqueryScript);\n        } else {\n          window.interactive_beam_jquery(document).ready(function($){\n            \n          });\n        }"
     },
     "metadata": {},
     "output_type": "display_data"
    }
   ],
   "source": [
    "import apache_beam as beam\n",
    "\n",
    "# Define the input file path\n",
    "input_file = '../datasets/transactions.csv'\n",
    "output_file = '../datasets/output/total_amounts.txt'\n",
    "\n",
    "# Define a function to calculate total amount spent\n",
    "def calculate_total_amount(record):\n",
    "    # Split the input record into fields\n",
    "    fields = record.split(',')\n",
    "    customer_id = fields[0]\n",
    "    product_id = fields[1]\n",
    "    quantity = int(fields[2])\n",
    "    price = float(fields[3])\n",
    "    \n",
    "    # Calculate total amount spent\n",
    "    total_amount = quantity * price\n",
    "    \n",
    "    # Return the record with total amount included\n",
    "    return f'{customer_id},{product_id},{quantity},{price},{total_amount}'\n",
    "\n",
    "# Create a pipeline\n",
    "with beam.Pipeline() as p:\n",
    "    # Read data from the input file\n",
    "    results = (p\n",
    "        | 'ReadFromText' >> beam.io.ReadFromText(input_file)\n",
    "        \n",
    "        # Apply the Map transformation to calculate total amount\n",
    "        | 'CalculateTotalAmount' >> beam.Map(calculate_total_amount)\n",
    "        \n",
    "        # Write results to an output file\n",
    "        | 'WriteToText' >> beam.io.WriteToText(output_file)\n",
    "    )\n"
   ]
  },
  {
   "cell_type": "code",
   "execution_count": null,
   "metadata": {},
   "outputs": [],
   "source": []
  }
 ],
 "metadata": {
  "kernelspec": {
   "display_name": "Python 3",
   "language": "python",
   "name": "python3"
  },
  "language_info": {
   "codemirror_mode": {
    "name": "ipython",
    "version": 3
   },
   "file_extension": ".py",
   "mimetype": "text/x-python",
   "name": "python",
   "nbconvert_exporter": "python",
   "pygments_lexer": "ipython3",
   "version": "3.12.5"
  }
 },
 "nbformat": 4,
 "nbformat_minor": 2
}
