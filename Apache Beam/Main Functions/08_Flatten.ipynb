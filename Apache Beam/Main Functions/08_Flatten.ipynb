{
 "cells": [
  {
   "cell_type": "code",
   "execution_count": null,
   "metadata": {},
   "outputs": [],
   "source": [
    "import apache_beam as beam\n",
    "\n",
    "p = beam.Pipeline()\n",
    "\n",
    "black = ('Adão','Jesus','Mike')\n",
    "White = ('Tulio','Mary','Joca')\n",
    "first_nations = ('Vic','Marta','Tom')\n",
    "\n",
    "black_pc = p | \"Creating Pcollection black\" >> beam.Create(black)\n",
    "White_pc = p | \"Creating Pcollection White\" >> beam.Create(White)\n",
    "first_nations_pc = p | \"Creating Pcollection first_nations\" >> beam.Create(first_nations)\n",
    "\n",
    "people = (\n",
    "    (black_pc,White_pc,first_nations_pc) \n",
    "        | beam.Flatten()\n",
    "        | beam.Map(print))\n",
    "p.run()"
   ]
  },
  {
   "cell_type": "code",
   "execution_count": 19,
   "metadata": {},
   "outputs": [],
   "source": [
    "import apache_beam as beam\n",
    "import os\n",
    "\n",
    "# Define the input and output file paths\n",
    "input_file = '../datasets/transactions.csv'\n",
    "output_file_prefix = '../datasets/output/transactions_output_headers'\n",
    "\n",
    "# Function to calculate total amount spent and format the result\n",
    "def calculate_total_amount(record):\n",
    "    # Split the input record into fields\n",
    "    fields = record.split(',')\n",
    "    customer_id = fields[0]\n",
    "    product_id = fields[1]\n",
    "    quantity = int(fields[2])\n",
    "    price = float(fields[3])\n",
    "    \n",
    "    # Calculate total amount spent\n",
    "    total_amount = quantity * price\n",
    "    \n",
    "    # Return the record with total amount included\n",
    "    return f'{customer_id},{product_id},{quantity},{price},{total_amount}'\n",
    "\n",
    "# Create a pipeline\n",
    "with beam.Pipeline() as p:\n",
    "    # Read data from the input file\n",
    "    data = (\n",
    "        p\n",
    "        | 'ReadFromText' >> beam.io.ReadFromText(input_file)\n",
    "        # Apply the Map transformation to calculate total amount\n",
    "        | 'CalculateTotalAmount' >> beam.Map(calculate_total_amount)\n",
    "    )\n",
    "\n",
    "    # Define the header\n",
    "    header = p | 'CreateHeader' >> beam.Create(['CustomerID,ProductID,Quantity,Price,TotalAmount'])\n",
    "\n",
    "    # Combine the header with the data\n",
    "    result = (\n",
    "        (header, data)\n",
    "        | 'CombineHeaderAndData' >> beam.Flatten()\n",
    "        # Write the combined result to the output file\n",
    "        | 'WriteToText' >> beam.io.WriteToText(output_file_prefix, file_name_suffix='.csv')\n",
    "    )\n",
    "\n",
    "# No need for p.run() as it's implicitly handled by the context manager\n"
   ]
  },
  {
   "cell_type": "code",
   "execution_count": null,
   "metadata": {},
   "outputs": [],
   "source": []
  }
 ],
 "metadata": {
  "kernelspec": {
   "display_name": "Python 3",
   "language": "python",
   "name": "python3"
  },
  "language_info": {
   "codemirror_mode": {
    "name": "ipython",
    "version": 3
   },
   "file_extension": ".py",
   "mimetype": "text/x-python",
   "name": "python",
   "nbconvert_exporter": "python",
   "pygments_lexer": "ipython3",
   "version": "3.12.5"
  }
 },
 "nbformat": 4,
 "nbformat_minor": 2
}
