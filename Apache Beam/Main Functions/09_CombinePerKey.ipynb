{
 "cells": [
  {
   "cell_type": "code",
   "execution_count": null,
   "metadata": {},
   "outputs": [],
   "source": [
    "import apache_beam as beam\n",
    "\n",
    "p1 = beam.Pipeline()\n",
    "\n",
    "Delayed_time = (\n",
    "p1\n",
    "  | \"Import Data\" >> beam.io.ReadFromText(\"flights_sample.csv\", skip_header_lines = 1)\n",
    "  | \"Split by comma\" >> beam.Map(lambda record: record.split(','))\n",
    "  | \"Filter Delays\" >> beam.Filter(lambda record: int(record[8]) > 0 )\n",
    "  | \"Create a key-value\" >> beam.Map(lambda record: (record[4],int(record[8])))\n",
    "  | \"Sum by key\" >> beam.CombinePerKey(sum)\n",
    "  | \"Print Results\" >> beam.Map(print)\n",
    ")\n",
    "\n",
    "p1.run()"
   ]
  }
 ],
 "metadata": {
  "language_info": {
   "name": "python"
  }
 },
 "nbformat": 4,
 "nbformat_minor": 2
}
