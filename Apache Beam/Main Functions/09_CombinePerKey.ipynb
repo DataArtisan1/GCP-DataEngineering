{
 "cells": [
  {
   "cell_type": "code",
   "execution_count": 3,
   "metadata": {},
   "outputs": [
    {
     "name": "stdout",
     "output_type": "stream",
     "text": [
      "('LAX', 94)\n",
      "('HNL', 15)\n",
      "('DFW', 95)\n",
      "('OGG', 138)\n",
      "('JFK', 220)\n"
     ]
    },
    {
     "data": {
      "text/plain": [
       "<apache_beam.runners.portability.fn_api_runner.fn_runner.RunnerResult at 0x291953450a0>"
      ]
     },
     "execution_count": 3,
     "metadata": {},
     "output_type": "execute_result"
    }
   ],
   "source": [
    "import apache_beam as beam\n",
    "\n",
    "input_file = \"../datasets/flights_sample.csv\"\n",
    "\n",
    "p1 = beam.Pipeline()\n",
    "\n",
    "Delayed_time = (\n",
    "p1\n",
    "  | \"Import Data\" >> beam.io.ReadFromText(input_file)\n",
    "  | \"Split by comma\" >> beam.Map(lambda record: record.split(','))\n",
    "  | \"Filter Delays\" >> beam.Filter(lambda record: int(record[8]) > 0 )\n",
    "  | \"Create a key-value\" >> beam.Map(lambda record: (record[4],int(record[8])))\n",
    "  | \"Sum by key\" >> beam.CombinePerKey(sum)\n",
    "  | \"Print Results\" >> beam.Map(print)\n",
    ")\n",
    "\n",
    "p1.run()"
   ]
  },
  {
   "cell_type": "code",
   "execution_count": 4,
   "metadata": {},
   "outputs": [
    {
     "name": "stdout",
     "output_type": "stream",
     "text": [
      "('1', 120)\n",
      "('2', 70)\n",
      "('3', 20)\n"
     ]
    }
   ],
   "source": [
    "import apache_beam as beam\n",
    "\n",
    "# Sample transaction data (CustomerID, AmountSpent)\n",
    "transactions = [\n",
    "    ('1', 50),\n",
    "    ('2', 30),\n",
    "    ('1', 70),\n",
    "    ('2', 40),\n",
    "    ('3', 20)\n",
    "]\n",
    "\n",
    "def print_result(element):\n",
    "    print(element)\n",
    "\n",
    "# Create a pipeline\n",
    "with beam.Pipeline() as p:\n",
    "    # Apply transformations\n",
    "    result = (\n",
    "        p\n",
    "        | 'Create Transactions' >> beam.Create(transactions)\n",
    "        | 'SumByCustomerID' >> beam.CombinePerKey(sum)\n",
    "    )\n",
    "    \n",
    "    # Print the result\n",
    "    result | 'Print Results' >> beam.Map(print_result)\n"
   ]
  },
  {
   "cell_type": "code",
   "execution_count": null,
   "metadata": {},
   "outputs": [],
   "source": []
  }
 ],
 "metadata": {
  "kernelspec": {
   "display_name": "Python 3",
   "language": "python",
   "name": "python3"
  },
  "language_info": {
   "codemirror_mode": {
    "name": "ipython",
    "version": 3
   },
   "file_extension": ".py",
   "mimetype": "text/x-python",
   "name": "python",
   "nbconvert_exporter": "python",
   "pygments_lexer": "ipython3",
   "version": "3.12.5"
  }
 },
 "nbformat": 4,
 "nbformat_minor": 2
}
