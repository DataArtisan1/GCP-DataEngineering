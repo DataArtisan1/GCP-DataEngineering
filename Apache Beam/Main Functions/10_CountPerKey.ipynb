{
 "cells": [
  {
   "cell_type": "code",
   "execution_count": 1,
   "metadata": {},
   "outputs": [
    {
     "name": "stderr",
     "output_type": "stream",
     "text": [
      "Failed to import GCSFileSystem; loading of this filesystem will be skipped. Error details: cannot import name 'storage' from 'google.cloud' (unknown location)\n"
     ]
    },
    {
     "data": {
      "application/javascript": "\n        if (typeof window.interactive_beam_jquery == 'undefined') {\n          var jqueryScript = document.createElement('script');\n          jqueryScript.src = 'https://code.jquery.com/jquery-3.4.1.slim.min.js';\n          jqueryScript.type = 'text/javascript';\n          jqueryScript.onload = function() {\n            var datatableScript = document.createElement('script');\n            datatableScript.src = 'https://cdn.datatables.net/1.10.20/js/jquery.dataTables.min.js';\n            datatableScript.type = 'text/javascript';\n            datatableScript.onload = function() {\n              window.interactive_beam_jquery = jQuery.noConflict(true);\n              window.interactive_beam_jquery(document).ready(function($){\n                \n              });\n            }\n            document.head.appendChild(datatableScript);\n          };\n          document.head.appendChild(jqueryScript);\n        } else {\n          window.interactive_beam_jquery(document).ready(function($){\n            \n          });\n        }"
     },
     "metadata": {},
     "output_type": "display_data"
    },
    {
     "name": "stdout",
     "output_type": "stream",
     "text": [
      "('1', 2)\n",
      "('2', 2)\n",
      "('3', 1)\n"
     ]
    }
   ],
   "source": [
    "import apache_beam as beam\n",
    "\n",
    "# Sample transaction data (CustomerID, AmountSpent)\n",
    "transactions = [\n",
    "    ('1', 50),\n",
    "    ('2', 30),\n",
    "    ('1', 70),\n",
    "    ('2', 40),\n",
    "    ('3', 20)\n",
    "]\n",
    "\n",
    "def print_result(element):\n",
    "    print(element)\n",
    "\n",
    "# Create a pipeline\n",
    "with beam.Pipeline() as p:\n",
    "    # Apply transformations\n",
    "    result = (\n",
    "        p\n",
    "        | 'Create Transactions' >> beam.Create(transactions)\n",
    "        # Count the number of transactions per customer (key)\n",
    "        | 'CountTransactionsPerCustomer' >> beam.combiners.Count.PerKey()\n",
    "    )\n",
    "    \n",
    "    # Print the result\n",
    "    result | 'Print Results' >> beam.Map(print_result)\n"
   ]
  },
  {
   "cell_type": "code",
   "execution_count": 2,
   "metadata": {},
   "outputs": [
    {
     "name": "stdout",
     "output_type": "stream",
     "text": [
      "('LAX', 5)\n",
      "('HNL', 1)\n",
      "('DFW', 1)\n",
      "('OGG', 1)\n",
      "('JFK', 4)\n"
     ]
    },
    {
     "data": {
      "text/plain": [
       "<apache_beam.runners.portability.fn_api_runner.fn_runner.RunnerResult at 0x264fc3b08f0>"
      ]
     },
     "execution_count": 2,
     "metadata": {},
     "output_type": "execute_result"
    }
   ],
   "source": [
    "import apache_beam as beam\n",
    "\n",
    "input_file = \"../datasets/flights_sample.csv\"\n",
    "\n",
    "p1 = beam.Pipeline()\n",
    "\n",
    "Delayed_num = (\n",
    "    p1\n",
    "    | \"Import Data\" >> beam.io.ReadFromText(input_file)\n",
    "    | \"Split by comma\" >> beam.Map(lambda record: record.split(','))\n",
    "    | \"Filter Delays\" >> beam.Filter(lambda record: int(record[8]) > 0 )\n",
    "    | \"Create a key-value\" >> beam.Map(lambda record: (record[4],int(record[8])))\n",
    "    | \"Count Per key\" >> beam.combiners.Count.PerKey()\n",
    "    | \"Print Results\" >> beam.Map(print)\n",
    ")\n",
    "\n",
    "p1.run()"
   ]
  },
  {
   "cell_type": "code",
   "execution_count": null,
   "metadata": {},
   "outputs": [],
   "source": []
  }
 ],
 "metadata": {
  "kernelspec": {
   "display_name": "Python 3",
   "language": "python",
   "name": "python3"
  },
  "language_info": {
   "codemirror_mode": {
    "name": "ipython",
    "version": 3
   },
   "file_extension": ".py",
   "mimetype": "text/x-python",
   "name": "python",
   "nbconvert_exporter": "python",
   "pygments_lexer": "ipython3",
   "version": "3.12.5"
  }
 },
 "nbformat": 4,
 "nbformat_minor": 2
}
